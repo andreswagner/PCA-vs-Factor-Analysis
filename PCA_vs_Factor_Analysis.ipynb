{
  "nbformat": 4,
  "nbformat_minor": 0,
  "metadata": {
    "colab": {
      "name": "PCA vs Factor Analysis",
      "provenance": [],
      "include_colab_link": true
    },
    "kernelspec": {
      "name": "python3",
      "display_name": "Python 3"
    }
  },
  "cells": [
    {
      "cell_type": "markdown",
      "metadata": {
        "id": "view-in-github",
        "colab_type": "text"
      },
      "source": [
        "<a href=\"https://colab.research.google.com/github/andreswagner/PCA-vs-Factor-Analysis/blob/master/PCA_vs_Factor_Analysis.ipynb\" target=\"_parent\"><img src=\"https://colab.research.google.com/assets/colab-badge.svg\" alt=\"Open In Colab\"/></a>"
      ]
    },
    {
      "cell_type": "markdown",
      "metadata": {
        "id": "eaeBnFcKKZsv",
        "colab_type": "text"
      },
      "source": [
        "# Diferencia entre PCA y Análisis Factorial\n",
        "\n",
        "Una confusión frecuente en las estadísticas ocurre entre el análisis de componentes principales (PCA) y el análisis factorial (FA). Esto ocurre debido a que tienen muchos aspectos en común, y parecen ser diferentes variedades del mismo análisis en lugar de dos métodos diferentes. Sin embargo, existe una diferencia fundamental entre ellos que tiene enormes implicancias sobre cómo usarlos.\n",
        "\n",
        "\n",
        "Veamos algunas similitudes:\n",
        "* Ambas son técnicas de reducción de datos: permiten capturar la varianza de las variables en un conjunto más pequeño.\n",
        "* Ambas se ejecutan en el software de estadísticas utilizando el mismo procedimiento, y la salida se ve más o menos igual.\n",
        "* Los pasos a seguir son los mismos: extracción, interpretación, rotación, elección del número de factores o componentes.\n",
        "\n",
        "A pesar de todas estas similitudes, existe una diferencia fundamental: \n",
        "* PCA es una combinación lineal de variables, mientras que el análisis factorial es un modelo de medición de una variable latente.\n",
        "\n",
        "## ¿Qué es una variable latente?\n",
        "\n",
        "\"Muchos, como decimos, se ven pero no se conocen, y las ideas se conocen pero no se ven\" (Platón, La República)\n",
        "\n",
        "\n",
        "Para explicar la relación entre las variables latentes y observadas podemos recordar el \"Mito de la cueva\" de La República de Platón. En este mito, un grupo de personas está obligado a enfrentar una pared y lo único que ven son sombras de objetos que pasan frente a un fuego detrás de ellos. En este caso, las sombras equivalen a las variables que podemos observar, en tanto que los objetos que pasan frente al fuego serían las variables latentes: aquellas que conocemos que existen, pero no las podemos observar directamente.\n",
        "\n",
        "Como investigadores, tratamos de medir nuestras construcciones lo mejor que podemos. A menudo podemos ver y medir las sombras de las construcciones, los \"objetos\" de nuestra investigación, pero no podemos observar o medir directamente las construcciones. Entonces, inferimos estas construcciones, que no son observadas, ocultas o latentes, a partir de los datos que recopilamos sobre variables relacionadas que podemos observar y medir directamente.\n",
        "\n",
        "Latente se refiere al hecho de que, aunque estas variables no se midieron directamente en el diseño de la investigación, son el objetivo final del proyecto.\n",
        "\n",
        "La naturaleza de la variable latente está intrínsecamente relacionada con la naturaleza de las variables indicadoras utilizadas para definirlas. En el caso más habitual, estructuramos el modelo para que los indicadores sean \"efectos\" de la variable latente, como en el caso del análisis factorial común."
      ]
    }
  ]
}